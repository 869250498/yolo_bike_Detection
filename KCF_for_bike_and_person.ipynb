{
 "cells": [
  {
   "cell_type": "code",
   "execution_count": 1,
   "metadata": {},
   "outputs": [],
   "source": [
    "import cv2\n",
    "import math\n",
    "import numpy\n",
    "import sys\n",
    "#import pdb\n",
    "\n",
    "#coordinate width and length\n",
    "rows=520\n",
    "cols=720\n",
    "\n",
    "data_of_txt=[0.0,0.0,0.0,0.0,0.0,0.0,0.0,0.0]\n",
    "pre_pt=[0.0,0.0]\n",
    "end_pt=pre_pt\n",
    "pre_pt_1=pre_pt\n",
    "end_pt_1=pre_pt\n",
    "show_video_flag=\"true\"\n",
    "save_video_flag=\"true\"\n",
    "video_rate=12\n",
    "hog_flag=\"true\"\n",
    "fixed_window_flag=\"false\"\n",
    "multiscale_flag=\"true\"\n",
    "lab_flag=\"true\"\n",
    "widthHeightRatio=1.0\n",
    "#tmp_3=dst_3=src_3=numpy.zeros((rows,cols,3),numpy.uint8)\n",
    "\n",
    "VIDEO_WINDOW_NAME=\"kcftrack result\"\n",
    "DISTANCE=\"distance\"\n",
    "video_file_name=\"result.avi\""
   ]
  },
  {
   "cell_type": "code",
   "execution_count": 2,
   "metadata": {},
   "outputs": [],
   "source": [
    "def drawxy(image):\n",
    "    #draw the coordinate\n",
    "    cv2.line(image,(50,rows-50),(cols-50,rows-50),(0,255,255),1,8)\n",
    "    cv2.line(image,(50,50),(50,rows-50),(0,255,255),1,8)\n",
    "    cv2.line(image,(cols-80,rows-80),(cols-50,rows-50),(0,255,255),1,8)\n",
    "    cv2.line(image,(cols-80,rows-20),(cols-50,rows-50),(0,255,255),1,8)\n",
    "    cv2.line(image,(80,80),(50,50),(0,255,255),1,8)\n",
    "    cv2.line(image,(20,80),(50,50),(0,255,255),1,8)\n",
    "    \n",
    "#    pdb.set_trace()\n",
    "    #add annotation of coordinate\n",
    "    font=cv2.FONT_HERSHEY_SIMPLEX\n",
    "    cv2.putText(image,'time',(cols-120,rows-20),font,0.5,(0,255,255),1,8,0)\n",
    "    cv2.putText(image,'distance',(30,40),font,0.5,(0,255,255),1,8,0)\n",
    "\n",
    "    #show the coordinate\n",
    "    cv2.imshow('result',image)\n",
    "    #key=cv2.waitKey(0)\n"
   ]
  },
  {
   "cell_type": "code",
   "execution_count": 3,
   "metadata": {},
   "outputs": [],
   "source": [
    "def readtxt():\n",
    "    #get the data of following point\n",
    "    lines=0\n",
    "    data=open(\"data.txt\")\n",
    "    data_all_line=data.readlines()\n",
    "    for data_line in data_all_line:\n",
    "        data_of_txt[lines]=float(data_line.strip('\\n'))\n",
    "        lines=lines+1\n",
    "    pre_pt=(data_of_txt[0],data_of_txt[1])\n",
    "    end_pt=(data_of_txt[0]+data_of_txt[2],data_of_txt[1]+data_of_txt[3])\n",
    "    pre_pt_1=(data_of_txt[4],data_of_txt[5])\n",
    "    end_pt_1=(data_of_txt[4]+data_of_txt[6],data_of_txt[5]+data_of_txt[7])\n",
    "\n"
   ]
  },
  {
   "cell_type": "code",
   "execution_count": 4,
   "metadata": {},
   "outputs": [],
   "source": [
    "input_video=cv2.VideoCapture(\"test.mp4\")\n",
    "#dis_3=cv2.imread(\"1.png\")\n",
    "tracker_types = ['BOOSTING', 'MIL','KCF', 'TLD', 'MEDIANFLOW', 'GOTURN', 'MOSSE', 'CSRT']\n",
    "\n",
    "if input_video.isOpened()=='flase':\n",
    "    print(\"video open failed\")\n",
    "    sys.exit()\n",
    "#if show_video_flag!=0:\n",
    "#cv2.namedWindow(VIDEO_WINDOW_NAME)\n",
    "#cv2.namedWindow(DISTANCE)"
   ]
  },
  {
   "cell_type": "code",
   "execution_count": 5,
   "metadata": {},
   "outputs": [],
   "source": [
    "#if lab_flag=='true':\n",
    "#    hog_flag='ture'\n",
    "tracker=cv2.TrackerKCF_create()\n",
    "tracker1=cv2.TrackerKCF_create()\n",
    "#kcf_init_end_flag='false'\n",
    "#drawxy(dis_3)\n"
   ]
  },
  {
   "cell_type": "code",
   "execution_count": 6,
   "metadata": {},
   "outputs": [],
   "source": [
    "ret='True'\n",
    "#frame=1"
   ]
  },
  {
   "cell_type": "code",
   "execution_count": 7,
   "metadata": {
    "scrolled": true
   },
   "outputs": [],
   "source": [
    "width = input_video.get(cv2.CAP_PROP_FRAME_WIDTH)   \n",
    "height = input_video.get(cv2.CAP_PROP_FRAME_HEIGHT) \n",
    "fourcc = cv2.VideoWriter_fourcc(*'DIVX')\n",
    "width    \n",
    "#if save_video_flag is True:\n",
    "out = cv2.VideoWriter('./output.mp4',fourcc, 20.0, (int(width), int(height)))\n",
    "        \n",
    "ret,frame=input_video.read()\n",
    "if ret is False:\n",
    "    print(\"video end\")\n",
    "    sys.exit() \n",
    "    \n",
    "readtxt()\n",
    "\n",
    "#get the point of person and bike\n",
    "init_xMin=pre_pt[0]\n",
    "init_yMin=pre_pt[1]\n",
    "init_xMax=end_pt[0]\n",
    "init_yMax=end_pt[1]\n",
    "init_width=init_xMax-init_xMin\n",
    "init_height=init_yMax-init_yMin\n",
    "ret1 = tracker.init(frame,(init_xMin,init_yMin,init_width,init_height))\n",
    "init_xMin_1 =  pre_pt_1[0]\n",
    "init_yMin_1 =  pre_pt_1[1]\n",
    "init_xMax_1 =  end_pt_1[0]\n",
    "init_yMax_1 =  end_pt_1[1]\n",
    "init_width_1 = init_xMax_1 - init_xMin_1\n",
    "init_height_1 = init_yMax_1 - init_yMin_1\n",
    "ret = tracker1.init(frame,(init_xMin_1,init_yMin_1,init_width_1,init_height_1)) & ret1"
   ]
  },
  {
   "cell_type": "code",
   "execution_count": 9,
   "metadata": {},
   "outputs": [],
   "source": [
    "while ret:\n",
    "    ret,frame=input_video.read()\n",
    "    ret\n",
    "    if not ret:\n",
    "        break\n",
    "        \n",
    "    #start timer\n",
    "    timer=cv2.getTickCount()\n",
    "    \n",
    "    #update tracker\n",
    "    ret,bbox=tracker.update(frame)\n",
    "    ret1,bbox1=tracker1.update(frame)\n",
    "    \n",
    "    #calculate frames per second\n",
    "    fps=cv2.getTickFrequency()/(cv2.getTickCount()-timer)\n",
    "    \n",
    "    if ret&ret1:\n",
    "        p1 = (int(bbox[0]), int(bbox[1]))\n",
    "        p2 = (int(bbox[0] + bbox[2]), int(bbox[1] + bbox[3]))\n",
    "        new_frame = cv2.rectangle(frame, p1, p2, (255,0,0), 2, 1)\n",
    "        \n",
    "        p3 = (int(bbox1[0]), int(bbox1[1]))\n",
    "        p3 = (int(bbox1[0] + bbox1[2]), int(bbox1[1] + bbox1[3]))\n",
    "        new_frame = cv2.rectangle(new_frame, p3, p4, (255,0,0), 2, 1)\n",
    "    \n",
    "    else :\n",
    "        cv2.putText(new_frame,\"Tracking failure detected\",(100,80),cv2.FONT_HERSHEY_SIMPLEX,0.75,(0,0,255),2)\n",
    "    \n",
    "    cv2.putText(new_frame, tracker_types[2] + \" Tracker\", (100,20), cv2.FONT_HERSHEY_SIMPLEX, 0.75, (50,170,50),2);\n",
    "     \n",
    "        # Display FPS on frame\n",
    "    cv2.putText(new_frame, \"FPS : \" + str(int(fps)), (100,50), cv2.FONT_HERSHEY_SIMPLEX, 0.75, (50,170,50), 2);\n",
    " \n",
    "        # Display result\n",
    "    out.write(new_frame)\n",
    "    cv2.imshow(\"Tracking\", new_frame)\n",
    "        \n",
    "out.release()\n",
    "input_video.release()\n",
    "cv2.destroyAllWindows()\n",
    "        #get the picture of this frame\n"
   ]
  },
  {
   "cell_type": "code",
   "execution_count": null,
   "metadata": {},
   "outputs": [],
   "source": []
  }
 ],
 "metadata": {
  "kernelspec": {
   "display_name": "Python 3",
   "language": "python",
   "name": "python3"
  },
  "language_info": {
   "codemirror_mode": {
    "name": "ipython",
    "version": 3
   },
   "file_extension": ".py",
   "mimetype": "text/x-python",
   "name": "python",
   "nbconvert_exporter": "python",
   "pygments_lexer": "ipython3",
   "version": "3.6.3"
  }
 },
 "nbformat": 4,
 "nbformat_minor": 2
}
